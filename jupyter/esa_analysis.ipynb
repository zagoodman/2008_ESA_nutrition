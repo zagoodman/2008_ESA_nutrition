{
 "cells": [
  {
   "cell_type": "markdown",
   "metadata": {
    "toc": true
   },
   "source": [
    "<h1>Table of Contents<span class=\"tocSkip\"></span></h1>\n",
    "<div class=\"toc\"><ul class=\"toc-item\"><li><span><a href=\"#Init\" data-toc-modified-id=\"Init-1\"><span class=\"toc-item-num\">1&nbsp;&nbsp;</span>Init</a></span><ul class=\"toc-item\"><li><span><a href=\"#Helper-functions\" data-toc-modified-id=\"Helper-functions-1.1\"><span class=\"toc-item-num\">1.1&nbsp;&nbsp;</span>Helper functions</a></span></li></ul></li><li><span><a href=\"#Descriptive-stats\" data-toc-modified-id=\"Descriptive-stats-2\"><span class=\"toc-item-num\">2&nbsp;&nbsp;</span>Descriptive stats</a></span><ul class=\"toc-item\"><li><span><a href=\"#Summary-table\" data-toc-modified-id=\"Summary-table-2.1\"><span class=\"toc-item-num\">2.1&nbsp;&nbsp;</span>Summary table</a></span><ul class=\"toc-item\"><li><span><a href=\"#Categorical-vars\" data-toc-modified-id=\"Categorical-vars-2.1.1\"><span class=\"toc-item-num\">2.1.1&nbsp;&nbsp;</span>Categorical vars</a></span></li><li><span><a href=\"#Numeric-vars\" data-toc-modified-id=\"Numeric-vars-2.1.2\"><span class=\"toc-item-num\">2.1.2&nbsp;&nbsp;</span>Numeric vars</a></span></li></ul></li><li><span><a href=\"#When-did-people-receive-ESPs?\" data-toc-modified-id=\"When-did-people-receive-ESPs?-2.2\"><span class=\"toc-item-num\">2.2&nbsp;&nbsp;</span>When did people receive ESPs?</a></span></li><li><span><a href=\"#How-many-imputed-items?\" data-toc-modified-id=\"How-many-imputed-items?-2.3\"><span class=\"toc-item-num\">2.3&nbsp;&nbsp;</span>How many imputed items?</a></span></li><li><span><a href=\"#Time-series-plots\" data-toc-modified-id=\"Time-series-plots-2.4\"><span class=\"toc-item-num\">2.4&nbsp;&nbsp;</span>Time series plots</a></span><ul class=\"toc-item\"><li><span><a href=\"#Behaviors\" data-toc-modified-id=\"Behaviors-2.4.1\"><span class=\"toc-item-num\">2.4.1&nbsp;&nbsp;</span>Behaviors</a></span></li><li><span><a href=\"#Nutrients\" data-toc-modified-id=\"Nutrients-2.4.2\"><span class=\"toc-item-num\">2.4.2&nbsp;&nbsp;</span>Nutrients</a></span></li></ul></li></ul></li><li><span><a href=\"#TWFE-estimator\" data-toc-modified-id=\"TWFE-estimator-3\"><span class=\"toc-item-num\">3&nbsp;&nbsp;</span>TWFE estimator</a></span><ul class=\"toc-item\"><li><span><a href=\"#Combined\" data-toc-modified-id=\"Combined-3.1\"><span class=\"toc-item-num\">3.1&nbsp;&nbsp;</span>Combined</a></span></li><li><span><a href=\"#Just-paper-checks\" data-toc-modified-id=\"Just-paper-checks-3.2\"><span class=\"toc-item-num\">3.2&nbsp;&nbsp;</span>Just paper checks</a></span></li><li><span><a href=\"#Just-direct-deposit\" data-toc-modified-id=\"Just-direct-deposit-3.3\"><span class=\"toc-item-num\">3.3&nbsp;&nbsp;</span>Just direct deposit</a></span></li><li><span><a href=\"#Interactions\" data-toc-modified-id=\"Interactions-3.4\"><span class=\"toc-item-num\">3.4&nbsp;&nbsp;</span>Interactions</a></span><ul class=\"toc-item\"><li><span><a href=\"#All\" data-toc-modified-id=\"All-3.4.1\"><span class=\"toc-item-num\">3.4.1&nbsp;&nbsp;</span>All</a></span></li><li><span><a href=\"#Direct-Deposit\" data-toc-modified-id=\"Direct-Deposit-3.4.2\"><span class=\"toc-item-num\">3.4.2&nbsp;&nbsp;</span>Direct Deposit</a></span></li><li><span><a href=\"#Paper-checks\" data-toc-modified-id=\"Paper-checks-3.4.3\"><span class=\"toc-item-num\">3.4.3&nbsp;&nbsp;</span>Paper checks</a></span></li></ul></li></ul></li><li><span><a href=\"#Sun-and-Abraham\" data-toc-modified-id=\"Sun-and-Abraham-4\"><span class=\"toc-item-num\">4&nbsp;&nbsp;</span>Sun and Abraham</a></span></li><li><span><a href=\"#Chaisemartin-and-D'Haultfoeuille\" data-toc-modified-id=\"Chaisemartin-and-D'Haultfoeuille-5\"><span class=\"toc-item-num\">5&nbsp;&nbsp;</span>Chaisemartin and D'Haultfoeuille</a></span></li></ul></div>"
   ]
  },
  {
   "cell_type": "markdown",
   "metadata": {},
   "source": [
    "# 2008 ESA Analysis\n",
    "By Zachary A. Goodman\n",
    "\n",
    "Updated: 2021-05\n",
    "\n",
    "This script performs the analysis in Goodman (2021)."
   ]
  },
  {
   "cell_type": "markdown",
   "metadata": {},
   "source": [
    "## Init"
   ]
  },
  {
   "cell_type": "code",
   "execution_count": null,
   "metadata": {},
   "outputs": [],
   "source": [
    "clear all\n",
    "\n",
    "* set working directory\n",
    "qui cd \"../\"\n",
    "\n",
    "* set global directories\n",
    "global raw_data ./data/raw_data\n",
    "global temp_data ./data/temp_data\n",
    "global gen_data ./data/gen_data\n",
    "global figures ./tex/figures \n",
    "global tables ./tex/tables\n",
    "\n",
    "* check dependencies\n",
    "which eventstudyinteract\n",
    "which reghdfe\n",
    "\n",
    "* plot style\n",
    "set scheme s1color"
   ]
  },
  {
   "cell_type": "markdown",
   "metadata": {},
   "source": [
    "### Helper functions"
   ]
  },
  {
   "cell_type": "code",
   "execution_count": null,
   "metadata": {},
   "outputs": [],
   "source": [
    "capture program drop get_data\n",
    "program get_data\n",
    "    use $gen_data/hh_year_week_panel, clear\n",
    "    end"
   ]
  },
  {
   "cell_type": "code",
   "execution_count": null,
   "metadata": {},
   "outputs": [],
   "source": [
    "capture program drop merge_dems\n",
    "program merge_dems\n",
    "    merge m:1 household_code using $gen_data/panelist_info.dta, keep(3) nogen\n",
    "    sort household_code\n",
    "    qui by household_code: ereplace wic_indicator_current = min(wic_indicator_current)\n",
    "    qui by household_code: ereplace wic_indicator_ever_not_current = min(wic_indicator_ever_not_current)\n",
    "    qui replace wic_indicator_current = 0 if mi(wic_indicator_current)\n",
    "    qui replace wic_indicator_ever_not_current = 0 if mi(wic_indicator_ever_not_current)\n",
    "    end"
   ]
  },
  {
   "cell_type": "code",
   "execution_count": null,
   "metadata": {},
   "outputs": [],
   "source": [
    "capture program drop export_img\n",
    "program export_img\n",
    "    args name\n",
    "    graph export $figures/`name'.pdf, name(`name') replace\n",
    "    end"
   ]
  },
  {
   "cell_type": "code",
   "execution_count": null,
   "metadata": {},
   "outputs": [],
   "source": [
    "* Sample-shrinking function for debugging\n",
    "\n",
    "capture program drop keep_rand\n",
    "program keep_rand\n",
    "    args sample_size  // percent\n",
    "\n",
    "    capture drop rnum\n",
    "    bys household_code: gen rnum = runiform() if _n == 1\n",
    "    by household_code: ereplace rnum = min(rnum)\n",
    "    keep if rnum < `sample_size'\n",
    "    end"
   ]
  },
  {
   "cell_type": "code",
   "execution_count": null,
   "metadata": {},
   "outputs": [],
   "source": [
    "* Two-way Fixed Effect estimator\n",
    "\n",
    "capture program drop twfe\n",
    "program define twfe\n",
    "    args outcome leads fname interaction\n",
    "    /*\n",
    "    Two-way fixed effect estimator. \n",
    "    Must assume homogenous treatment effects and construct a 'never treated' group\n",
    "    using the last treated cohort.\n",
    "    \n",
    "    Args\n",
    "    outcome: y var\n",
    "    leads: number of leads to include (lags limited by control group)\n",
    "    fname: file name\n",
    "    interaction: optional interaction var\n",
    "*/\n",
    "\n",
    "    capture restore\n",
    "    preserve\n",
    "\n",
    "    // keep_rand 0.3 // for shrinking sample for debugging\n",
    "    \n",
    "    di `leads'\n",
    "\n",
    "    * drop obs after week of last treatment\n",
    "    qui sum week_treat\n",
    "    local max_week = r(max)\n",
    "    drop if week >= `max_week'\n",
    "    //tab week_diff if week_treat == `max_week'  // verify last group has no treated obs\n",
    "\n",
    "    * drop obs before `leads'\n",
    "    drop if week_diff < -1 * `leads'\n",
    "\n",
    "    * outcome in logs\n",
    "    capture drop logy\n",
    "    gen logy = asinh(`outcome')\n",
    "\n",
    "    * add week-by-method (to be absorbed)\n",
    "    * week is 4 digit number, so add 10,000 for check, 20,000 for dd\n",
    "    replace week = week + hh_method_paper * 10000 + hh_method_dd * 20000\n",
    "\n",
    "    * factor-ize week_diff\n",
    "    * leads (n = negative)\n",
    "    capture drop g_*\n",
    "    capture drop keepvar\n",
    "    gen keepvar = 0\n",
    "    forvalues k = `leads'(-1)1 {\n",
    "        qui gen g_n`k' = week_diff == -`k'\n",
    "        qui replace keepvar = 1 if week_diff == -`k'\n",
    "    }\n",
    "    * lags\n",
    "    qui sum week_diff\n",
    "    local max_week = r(max)\n",
    "    di `max_week'\n",
    "    forvalues k = 0/`max_week' {\n",
    "        qui gen g_`k' = week_diff == `k'\n",
    "        qui replace keepvar = 1 if week_diff == `k'\n",
    "    }\n",
    "    \n",
    "    * add dummies for interaction model, if necessary\n",
    "    if \"`interaction'\" != \"\" {\n",
    "        di \"Interaction var: `interaction'\"\n",
    "        foreach var of varlist g_* {\n",
    "            qui gen `var'_inter = `var' * `interaction'\n",
    "        }\n",
    "    } \n",
    "\n",
    "    * drop reference categories and observations outside experiment\n",
    "    drop g_n2 g_n`leads'*\n",
    "    keep if keepvar\n",
    "\n",
    "    di \"Running reghdfe...\"\n",
    "\n",
    "    * standard model, potentially with interactions\n",
    "    reghdfe logy g_* [fw=projection_factor], ///\n",
    "    absorb(household_code week) vce(cluster household_code) nocons\n",
    "\n",
    "    //coefplot , vertical\n",
    "\n",
    "    * get matrix of coef and se estimates\n",
    "    matrix C = e(b)  // point estimates in relative time\n",
    "    mata st_matrix(\"A\", sqrt(st_matrix(\"e(V)\")))  // variance estimates\n",
    "    matrix A = vecdiag(A)\n",
    "    matrix C = C \\ A  // add row with standard errors\n",
    "    matrix rownames C = coeff se\n",
    "    matrix CT = C'  // transpose\n",
    "\n",
    "    * export matrix\n",
    "    mat2txt, matrix(CT) saving($temp_data/twfe/`fname'.txt) replace\n",
    "\n",
    "    end"
   ]
  },
  {
   "cell_type": "code",
   "execution_count": null,
   "metadata": {},
   "outputs": [],
   "source": [
    "* Sun and Abraham estimator\n",
    "\n",
    "capture program drop sun_abraham\n",
    "program define sun_abraham\n",
    "    args outcome weeks fname\n",
    "    /*\n",
    "    outcome: y var\n",
    "    weeks: number of leads and lags\n",
    "    fname: file name\n",
    "    */\n",
    "\n",
    "    capture restore\n",
    "    preserve\n",
    "\n",
    "    di `weeks'\n",
    "\n",
    "    // keep_rand  0.05  // shrink sample for debugging\n",
    "\n",
    "    * gen logged outcome var\n",
    "    capture drop logy\n",
    "    gen logy = asinh(`outcome')\n",
    "\n",
    "    * control cohort\n",
    "    capture drop ctrl_cohort\n",
    "    gen ctrl_cohort = week_treat == 2524\n",
    "\n",
    "    * drop obs after week of last treatment (2524)\n",
    "    drop if week >= 2524\n",
    "    //tab week_diff if week_treat == 2524  // verify last group has no treated obs\n",
    "\n",
    "    * generate leads and lags\n",
    "    capture drop g_* \n",
    "\n",
    "    * leads (n = negative)\n",
    "    forvalues k = `weeks'(-1)1 {\n",
    "        qui gen g_n`k' = week_diff == -`k'\n",
    "    }\n",
    "\n",
    "    * lags\n",
    "    forvalues k = 0/12 {\n",
    "        qui gen g_`k' = week_diff == `k'\n",
    "    }\n",
    "\n",
    "    * drop reference week\n",
    "    drop g_n`weeks' g_n2\n",
    "\n",
    "    /*\n",
    "    eventstudyinteract {y} {rel_time_list} [if] [in] [weight] ,\n",
    "                   absorb(absvars) cohort(variable) control_cohort(variable)\n",
    "                   [options covariates(varlist)]\n",
    "    */\n",
    "    di \"Running eventstudyinteract...\"\n",
    "\n",
    "    eventstudyinteract logy g_* [fw=projection_factor], ///\n",
    "        absorb(household_code week) cohort(week_treat) control_cohort(ctrl_cohort) ///\n",
    "        vce(cluster household_code)\n",
    "\n",
    "\n",
    "    * export coefficients\n",
    "\n",
    "    matrix C = e(b_iw)  // point estimates in relative time\n",
    "    mata st_matrix(\"A\", sqrt(st_matrix(\"e(V_iw)\")))  // variance estimates\n",
    "    matrix C = C \\ A  // add row with standard errors\n",
    "    matrix rownames C = coeff se\n",
    "    matrix CT = C'  // transpose\n",
    "    //matrix list C\n",
    "    //coefplot matrix(C[1]), se(C[2]) vertical\n",
    "    mat2txt, matrix(CT) saving($temp_data/sun_abraham/`fname'.txt) replace\n",
    "    \n",
    "    end"
   ]
  },
  {
   "cell_type": "code",
   "execution_count": null,
   "metadata": {},
   "outputs": [],
   "source": [
    "help eventstudyinteract"
   ]
  },
  {
   "cell_type": "markdown",
   "metadata": {},
   "source": [
    "## Descriptive stats"
   ]
  },
  {
   "cell_type": "code",
   "execution_count": null,
   "metadata": {
    "scrolled": true
   },
   "outputs": [],
   "source": [
    "get_data\n",
    "merge_dems\n",
    "gunique household_code\n",
    "gunique household_code week"
   ]
  },
  {
   "cell_type": "code",
   "execution_count": null,
   "metadata": {},
   "outputs": [],
   "source": [
    "tab week_diff"
   ]
  },
  {
   "cell_type": "code",
   "execution_count": null,
   "metadata": {},
   "outputs": [],
   "source": [
    "sum"
   ]
  },
  {
   "cell_type": "markdown",
   "metadata": {},
   "source": [
    "### Summary table"
   ]
  },
  {
   "cell_type": "code",
   "execution_count": null,
   "metadata": {},
   "outputs": [],
   "source": [
    "* keep only necessary vars\n",
    "keep household_code week_diff hh_method_paper-projection_factor ///\n",
    "    items_deals-coupons_amount_saved calories-total_spent hh_* wic*\n",
    "\n",
    "* keep only pretreatment obs\n",
    "keep if week_diff < 0  // only pretreatment obs\n",
    "\n",
    "* collapse to household level\n",
    "collapse (mean) hh_method_paper-hh_child, by(household_code)\n",
    "\n",
    "sum"
   ]
  },
  {
   "cell_type": "markdown",
   "metadata": {},
   "source": [
    "#### Categorical vars"
   ]
  },
  {
   "cell_type": "code",
   "execution_count": null,
   "metadata": {},
   "outputs": [],
   "source": [
    "tab hh_size hh_child"
   ]
  },
  {
   "cell_type": "code",
   "execution_count": null,
   "metadata": {},
   "outputs": [],
   "source": [
    "tab hh_savings_two_months"
   ]
  },
  {
   "cell_type": "code",
   "execution_count": null,
   "metadata": {},
   "outputs": [],
   "source": [
    "capture program drop label_vars\n",
    "program label_vars\n",
    "\n",
    "    * 1 - 6+ HH members\n",
    "    label var hh_size \"Household size, top-coded at 6\"\n",
    "\n",
    "    * Low, middle, high income\n",
    "    label var hh_income \"Household income\"\n",
    "    label define income 1 \"<$35K\" 2 \"$35K - $59,999\" ///\n",
    "        3 \"$60K - $99,999\" 4 \">$100K\", replace\n",
    "    label values hh_income income\n",
    "\n",
    "    * (Female) Age < 35, 35 - 49, 50 - 64, 65+\n",
    "    label var hh_age \"Age of the (female) head of household\"\n",
    "    label define age 1 \"<35\" 2 \"35 - 49\" ///\n",
    "        3 \"50-64\" 4 \"65+\", replace\n",
    "    label values hh_age age\n",
    "\n",
    "    * <HS, HS grad, some college, BA+\n",
    "    label var hh_educ \"Education of the (female) head of household\"\n",
    "    label define educ 1 \"< HS\" 2 \"HS Grad\" ///\n",
    "        3 \"Some College\" 4 \"BA+\", replace\n",
    "    label values hh_educ educ\n",
    "\n",
    "    * White, Black, Hispanic, Asian\n",
    "    label var hh_race \"Racial identity\"\n",
    "    label define race 1 \"White\" 2 \"Black\" 3 \"Asian\" 4 \"Other\", replace\n",
    "    label values hh_race race\n",
    "\n",
    "    * Kids under 18 y/n\n",
    "    label var hh_child \"Any children < 18\"\n",
    "    label define child 1 \"Yes\" 0 \"No\", replace\n",
    "    label values hh_child child\n",
    "\n",
    "    * Female <30 hrs, 30 - 34 hrs, >= 35 hrs, not employed (includes retired)\n",
    "    label var hh_emp_fem \"Hours employment/week of female head of HH\"\n",
    "    label define emp 1 \"< 30\" 2 \"30 - 34\" 3 \">= 35\" 9 \"Not employed\" 0 \"No head of this gender\", replace\n",
    "    label values hh_emp_fem emp\n",
    "\n",
    "    * Male <30 hrs, 30 - 34 hrs, >= 35 hrs, not employed (includes retired)\n",
    "    label var hh_emp_male \"Hours employment/week of male head of HH\"\n",
    "    label values hh_emp_male emp\n",
    "\n",
    "    * WIC\n",
    "    gen wic = wic_indicator_current\n",
    "    replace wic = 2 if wic_indicator_ever_not_current\n",
    "    label define wic 0 \"No\" 1 \"Current\" 2 \"Previously\", replace\n",
    "    label values wic wic\n",
    "    label var wic \"WIC indicator\"\n",
    "\n",
    "    * Liquidity\n",
    "    label define savings 0 \"Illiquid\" 1 \"Liquid\", replace\n",
    "    label values hh_savings_two_months savings\n",
    "    label var hh_savings_two_months \"At least two months income in liquid assets\"\n",
    "\n",
    "    label var hh_method_paper \"ESP by check\"\n",
    "    label var hh_method_dd \"ESP by dir. dep.\"\n",
    "    label var hh_esp_amount \"ESP amount\"\n",
    "    label var trips \"Trips\"\n",
    "    label var items_deals \"Items with deals\"\n",
    "    label var items_storebrand \"Storebrand items\"\n",
    "    label var items_scanned \"Scanned items\"\n",
    "    label var items_food \"Food items\"\n",
    "    label var items_coupons \"Items with coupons\"\n",
    "    label var final_price_paid \"Total spent, scanned items\"\n",
    "    label var final_price_paid_food \"Total spent, scanned food\"\n",
    "    label var coupons_amount_saved \"Coupon value\"\n",
    "    label var total_spent \"Total spent\"\n",
    "\n",
    "    label var calories \"Calories\"\n",
    "    label var caloriesfromfat \"Calories from fat\"\n",
    "    label var carbsgrams \"Carbohydrates\"\n",
    "    label var cholesterolgrams \"Cholesterol\"\n",
    "    label var fatgrams \"Fat\"\n",
    "    label var fibergrams \"Fiber\"\n",
    "    label var proteingrams \"Protein\"\n",
    "    label var satfatgrams \"Saturated fat\"\n",
    "    label var sodiumgrams \"Sodium\"\n",
    "    label var sugargrams \"Sugar\"\n",
    "    label var transfatgrams \"Transfat\"\n",
    "\n",
    "    end"
   ]
  },
  {
   "cell_type": "code",
   "execution_count": null,
   "metadata": {},
   "outputs": [],
   "source": [
    "* summary stats for categorical vars\n",
    "\n",
    "capture restore\n",
    "preserve\n",
    "\n",
    "// label_vars \n",
    "\n",
    "* unique households\n",
    "unique household_code if !hh_savings_two_months\n",
    "unique household_code if hh_savings_two_months\n",
    "unique household_code\n",
    "\n",
    "tabout hh_emp* hh_race hh_income hh_age hh_educ hh_child wic hh_savings_two_months ///\n",
    "    using \"$tables/summary_cat.tex\", ///\n",
    "    replace cells(col) format(2) style(tex) bt cl1(2-4) cl2(2-2 3-3 4-4) ///\n",
    "    topf(\"$tables/ref/top.tex\") botf(\"$tables/ref/bot.tex\") topstr(14cm) botstr(string) ///\n",
    "    ptotal(none) npos(row)\n",
    "\n",
    "restore"
   ]
  },
  {
   "cell_type": "markdown",
   "metadata": {},
   "source": [
    "#### Numeric vars"
   ]
  },
  {
   "cell_type": "code",
   "execution_count": null,
   "metadata": {},
   "outputs": [],
   "source": [
    "tab hh_savings_two_months"
   ]
  },
  {
   "cell_type": "code",
   "execution_count": null,
   "metadata": {
    "scrolled": false
   },
   "outputs": [],
   "source": [
    "// label_vars \n",
    "\n",
    "eststo clear\n",
    "qui estpost tabstat ///\n",
    "    hh_method_paper hh_method_dd hh_esp_amount trips total_spent final_price_paid* ///\n",
    "    items_scanned items_storebrand items_food ///\n",
    "    items_deals items_coupons coupons_amount_saved ///\n",
    "    calories-transfatgrams [fw=projection_factor], listwise ///\n",
    "    statistics(mean sd) columns(statistics) by(hh_savings_two_months)\n",
    "\n",
    "local caption = \"Summary statistics, numeric variables\"\n",
    "local name = \"summary_num\"\n",
    "local label = \"table_summary_num\"\n",
    "local note = \"Variables are at the household-week level. Nutrient variables are all in grams, except for calories. Finanical variables are all in nominal dollars. Statistics are weighted using each household's projection factor as provided by Nielsen.\"\n",
    "\n",
    "esttab using $tables/`name'.tex, cells(\"mean(fmt(2)) sd\") nomtitle nonumber unstack label booktabs replace ///\n",
    "    prehead(\"\\begin{spacing}{1.0} \\begin{table} \\centering \\caption{`caption'} \\label{`label'} \\begin{threeparttable} \\begin{tabular}{m{0.30\\linewidth}*{6}{>{\\centering\\arraybackslash}m{0.09\\linewidth}}} \\toprule\") ///\n",
    "    postfoot(\"\\bottomrule \\end{tabular} \\Fignote{`note'} \\end{threeparttable} \\end{table} \\end{spacing}\" )"
   ]
  },
  {
   "cell_type": "markdown",
   "metadata": {},
   "source": [
    "### How many imputed items?"
   ]
  },
  {
   "cell_type": "code",
   "execution_count": null,
   "metadata": {},
   "outputs": [],
   "source": [
    "get_data\n",
    "\n",
    "capture drop all*\n",
    "gen all_items = imputed0 + imputed1 + imputed2 + imputed3 + imputed4 + imputed5\n",
    "egen all_items_scanned = sum(all_items)\n",
    "// egen all_items_scanned_2 = sum(items_food)\n",
    "// sum all_items*\n",
    "\n",
    "forvalues i = 0/5 {\n",
    "    egen all_imputed_`i' = sum(imputed`i')\n",
    "    di all_imputed_`i' / all_items_scanned\n",
    "}"
   ]
  },
  {
   "cell_type": "markdown",
   "metadata": {},
   "source": [
    "### Time series plots"
   ]
  },
  {
   "cell_type": "code",
   "execution_count": null,
   "metadata": {},
   "outputs": [],
   "source": [
    "get_data\n",
    "merge_dems"
   ]
  },
  {
   "cell_type": "code",
   "execution_count": null,
   "metadata": {},
   "outputs": [],
   "source": [
    "capture program drop plot_ts\n",
    "program plot_ts \n",
    "    args y byvar title xtitle ytitle\n",
    "\n",
    "    keep if inrange(week_diff, -12, 11)\n",
    "\n",
    "    twoway (line `y' week_diff if `byvar' == 1) ///\n",
    "        (line `y' week_diff if `byvar' == 0), ///\n",
    "        title(\"`title'\") ytitle(\"`ytitle'\") xtitle(\"`xtitle'\") ///\n",
    "        legend(off) name(\"`y'\", replace)\n",
    "\n",
    "    end"
   ]
  },
  {
   "cell_type": "markdown",
   "metadata": {},
   "source": [
    "#### Behaviors"
   ]
  },
  {
   "cell_type": "code",
   "execution_count": null,
   "metadata": {},
   "outputs": [],
   "source": [
    "capture restore\n",
    "preserve\n",
    "\n",
    "local byvar = \"hh_savings_two_months\"\n",
    "\n",
    "capture drop week_diff\n",
    "gen week_diff = week - week_treat\n",
    "keep items_* total_* final_* coupon `byvar' week_diff projection_factor\n",
    "collapse (mean) items_* total_* final_* coupon [fw=projection_factor], by(week_diff `byvar')\n",
    "\n",
    "\n",
    "plot_ts total_spent \"`byvar'\" \"Total spent\" \"\" \"Dollars\"\n",
    "plot_ts final_price_paid \"`byvar'\" \"Total spent, scanned items\" \"\" \"Dollars\"\n",
    "plot_ts final_price_paid_food \"`byvar'\" \"Total spent, scanned food\" \"\" \"Dollars\"\n",
    "plot_ts items_scanned \"`byvar'\" \"Items scanned\" \"\" \"Items\"\n",
    "plot_ts items_storebrand \"`byvar'\" \"Storebrand items scanned\" \"\" \"Items\"\n",
    "plot_ts items_food \"`byvar'\" \"Food items scanned\" \"\" \"Items\"\n",
    "plot_ts items_deals \"`byvar'\" \"Items scanned with deals\" \"\" \"Items\"\n",
    "plot_ts items_coupons \"`byvar'\" \"Items scanned with coupons\" \"\" \"Items\"\n",
    "plot_ts coupons_amount_saved \"`byvar'\" \"Total coupon value\" \"\" \"Dollars\"\n",
    "\n",
    "graph combine total_spent final_price_paid final_price_paid_food ///\n",
    "    items_scanned items_storebrand items_food ///\n",
    "    items_deals items_coupons coupons_amount_saved, ///\n",
    "    row(3) name(raw_behaviors_week, replace) altshrink iscale(1.2) ysize(5) xsize(6)\n",
    "\n",
    "export_img raw_behaviors_week\n",
    "\n",
    "restore"
   ]
  },
  {
   "cell_type": "markdown",
   "metadata": {},
   "source": [
    "#### Nutrients"
   ]
  },
  {
   "cell_type": "code",
   "execution_count": null,
   "metadata": {
    "scrolled": true
   },
   "outputs": [],
   "source": [
    "capture restore\n",
    "preserve\n",
    "\n",
    "local yvars = \"calories fatgrams satfatgrams cholesterolgrams carbsgrams sugargrams fibergrams sodiumgrams proteingrams\"\n",
    "local byvar = \"hh_savings_two_months\"\n",
    "\n",
    "capture drop week_diff\n",
    "gen week_diff = week - week_treat\n",
    "keep `yvars' `byvar' week_diff projection_factor\n",
    "collapse (mean) `yvars' [fw=projection_factor], by(week_diff `byvar')\n",
    "\n",
    "plot_ts calories \"`byvar'\" \"Calories\" \"\" \"Calories\"\n",
    "plot_ts fatgrams \"`byvar'\" \"Fat\" \"\" \"Grams\"\n",
    "plot_ts satfatgrams \"`byvar'\" \"Saturated Fat\" \"\" \"Grams\"\n",
    "plot_ts carbsgrams \"`byvar'\" \"Carbohydrates\" \"\" \"Grams\"\n",
    "plot_ts sugargrams \"`byvar'\" \"Sugar\" \"\" \"Grams\"\n",
    "plot_ts fibergrams \"`byvar'\" \"Fiber\" \"\" \"Grams\"\n",
    "plot_ts proteingrams \"`byvar'\" \"Protein\" \"\" \"Grams\"\n",
    "plot_ts sodiumgrams \"`byvar'\" \"Sodium\" \"\" \"Grams\"\n",
    "plot_ts oz_alcohol \"`byvar'\" \"Alcohol\" \"\" \"Ounces\"\n",
    "\n",
    "graph combine calories fatgrams satfatgrams ///\n",
    "    carbsgrams sugargrams fibergrams ///\n",
    "    proteingrams sodiumgrams cholesterolgrams, ///\n",
    "    row(3) name(raw_nutrients_week, replace) altshrink iscale(1.2) ysize(5) xsize(6)\n",
    "\n",
    "export_img raw_nutrients_week\n",
    "\n",
    "restore"
   ]
  },
  {
   "cell_type": "markdown",
   "metadata": {},
   "source": [
    "## TWFE estimator"
   ]
  },
  {
   "cell_type": "code",
   "execution_count": null,
   "metadata": {},
   "outputs": [],
   "source": [
    "get_data\n",
    "merge_dems"
   ]
  },
  {
   "cell_type": "code",
   "execution_count": null,
   "metadata": {},
   "outputs": [],
   "source": [
    "tab week_treat if hh_method_dd\n",
    "tab week_treat if hh_method_paper"
   ]
  },
  {
   "cell_type": "markdown",
   "metadata": {},
   "source": [
    "### Combined"
   ]
  },
  {
   "cell_type": "code",
   "execution_count": null,
   "metadata": {},
   "outputs": [],
   "source": [
    "get_data\n",
    "desc"
   ]
  },
  {
   "cell_type": "code",
   "execution_count": null,
   "metadata": {
    "scrolled": true
   },
   "outputs": [],
   "source": [
    "foreach v of varlist items_deals-coupons_amount_saved calories-total_spent {\n",
    "    di \"`v'\"\n",
    "    twfe `v' 15 \"all/`v'\"\n",
    "}"
   ]
  },
  {
   "cell_type": "markdown",
   "metadata": {},
   "source": [
    "### Just paper checks"
   ]
  },
  {
   "cell_type": "code",
   "execution_count": null,
   "metadata": {
    "scrolled": true
   },
   "outputs": [],
   "source": [
    "preserve\n",
    "keep if hh_method_paper\n",
    "\n",
    "foreach v of varlist items_deals-coupons_amount_saved calories-total_spent {\n",
    "    di \"`v'\"\n",
    "    twfe `v' 15 \"paper/`v'\"\n",
    "}\n",
    "\n",
    "restore"
   ]
  },
  {
   "cell_type": "markdown",
   "metadata": {},
   "source": [
    "### Just direct deposit"
   ]
  },
  {
   "cell_type": "code",
   "execution_count": null,
   "metadata": {},
   "outputs": [],
   "source": [
    "preserve\n",
    "keep if hh_method_dd\n",
    "\n",
    "foreach v of varlist items_deals-coupons_amount_saved calories-total_spent {\n",
    "    di \"`v'\"\n",
    "    twfe `v' 15 \"dd/`v'\"\n",
    "}\n",
    "\n",
    "restore"
   ]
  },
  {
   "cell_type": "markdown",
   "metadata": {},
   "source": [
    "### Interactions"
   ]
  },
  {
   "cell_type": "code",
   "execution_count": null,
   "metadata": {},
   "outputs": [],
   "source": [
    "get_data\n",
    "merge_dems\n",
    "gen liquidity_constrained = 1 - hh_savings_two_months"
   ]
  },
  {
   "cell_type": "markdown",
   "metadata": {},
   "source": [
    "#### All"
   ]
  },
  {
   "cell_type": "code",
   "execution_count": null,
   "metadata": {
    "scrolled": true
   },
   "outputs": [],
   "source": [
    "foreach v of varlist items_deals-coupons_amount_saved calories-total_spent {\n",
    "    di \"`v'\"\n",
    "    twfe `v' 15 \"all/interact_`v'\" liquidity_constrained\n",
    "}"
   ]
  },
  {
   "cell_type": "markdown",
   "metadata": {},
   "source": [
    "#### Direct Deposit"
   ]
  },
  {
   "cell_type": "code",
   "execution_count": null,
   "metadata": {
    "scrolled": true
   },
   "outputs": [],
   "source": [
    "capture restore\n",
    "preserve\n",
    "keep if hh_method_dd\n",
    "\n",
    "foreach v of varlist items_deals-coupons_amount_saved calories-total_spent {\n",
    "    di \"`v'\"\n",
    "    twfe `v' 15 \"dd/interact_`v'\" liquidity_constrained\n",
    "}\n",
    "\n",
    "restore"
   ]
  },
  {
   "cell_type": "markdown",
   "metadata": {},
   "source": [
    "#### Paper checks"
   ]
  },
  {
   "cell_type": "code",
   "execution_count": null,
   "metadata": {},
   "outputs": [],
   "source": [
    "capture restore\n",
    "preserve\n",
    "keep if hh_method_paper\n",
    "\n",
    "foreach v of varlist items_deals-coupons_amount_saved calories-total_spent {\n",
    "    di \"`v'\"\n",
    "    twfe `v' 15 \"paper/interact_`v'\" liquidity_constrained\n",
    "}\n",
    "\n",
    "restore"
   ]
  },
  {
   "cell_type": "code",
   "execution_count": null,
   "metadata": {},
   "outputs": [],
   "source": []
  },
  {
   "cell_type": "code",
   "execution_count": null,
   "metadata": {},
   "outputs": [],
   "source": []
  },
  {
   "cell_type": "code",
   "execution_count": null,
   "metadata": {},
   "outputs": [],
   "source": []
  },
  {
   "cell_type": "code",
   "execution_count": null,
   "metadata": {},
   "outputs": [],
   "source": []
  },
  {
   "cell_type": "code",
   "execution_count": null,
   "metadata": {},
   "outputs": [],
   "source": []
  },
  {
   "cell_type": "markdown",
   "metadata": {},
   "source": [
    "## Sun and Abraham"
   ]
  },
  {
   "cell_type": "code",
   "execution_count": null,
   "metadata": {},
   "outputs": [],
   "source": [
    "get_data"
   ]
  },
  {
   "cell_type": "code",
   "execution_count": null,
   "metadata": {},
   "outputs": [],
   "source": [
    "* loop through outcomes and get coeffs\n",
    "\n",
    "foreach v of varlist items_deals-coupons_amount_saved calories-total_spent {\n",
    "    di \"`v'\"\n",
    "    sun_abraham `v' 26 \"all/`v'\"\n",
    "}"
   ]
  },
  {
   "cell_type": "markdown",
   "metadata": {},
   "source": [
    "## Chaisemartin and D'Haultfoeuille"
   ]
  },
  {
   "cell_type": "code",
   "execution_count": null,
   "metadata": {},
   "outputs": [],
   "source": [
    "* Try Chaisemartin & D'Haultfoeuille (2020)\n",
    "* Very slow\n",
    "\n",
    "capture restore\n",
    "preserve\n",
    "\n",
    "capture drop logx treat\n",
    "gen logx = asinh(sugargrams)\n",
    "gen treat = week_diff >= 0\n",
    "\n",
    "* shrink sample to make sure program works\n",
    "keep if week_diff >= -52\n",
    "keep if week_diff <= 52\n",
    "// gen randn = runiform()\n",
    "// bys household_code: ereplace randn = max(randn)\n",
    "// sort randn\n",
    "// keep in 1/30000\n",
    "\n",
    "* syntax: outcome group time_period_var treatment_var, options\n",
    "did_multiplegt logx household_code week treat, switchers(in) breps(100) weight(projection_factor)\n",
    "\n",
    "restore"
   ]
  },
  {
   "cell_type": "code",
   "execution_count": null,
   "metadata": {},
   "outputs": [],
   "source": []
  },
  {
   "cell_type": "code",
   "execution_count": null,
   "metadata": {},
   "outputs": [],
   "source": []
  },
  {
   "cell_type": "code",
   "execution_count": null,
   "metadata": {},
   "outputs": [],
   "source": []
  },
  {
   "cell_type": "code",
   "execution_count": null,
   "metadata": {},
   "outputs": [],
   "source": []
  },
  {
   "cell_type": "code",
   "execution_count": null,
   "metadata": {},
   "outputs": [],
   "source": []
  },
  {
   "cell_type": "code",
   "execution_count": null,
   "metadata": {},
   "outputs": [],
   "source": []
  },
  {
   "cell_type": "code",
   "execution_count": null,
   "metadata": {},
   "outputs": [],
   "source": []
  },
  {
   "cell_type": "code",
   "execution_count": null,
   "metadata": {},
   "outputs": [],
   "source": []
  }
 ],
 "metadata": {
  "kernelspec": {
   "display_name": "Stata",
   "language": "stata",
   "name": "stata"
  },
  "language_info": {
   "codemirror_mode": "stata",
   "file_extension": ".do",
   "mimetype": "text/x-stata",
   "name": "stata",
   "version": "15.1"
  },
  "toc": {
   "base_numbering": 1,
   "nav_menu": {},
   "number_sections": true,
   "sideBar": true,
   "skip_h1_title": true,
   "title_cell": "Table of Contents",
   "title_sidebar": "Contents",
   "toc_cell": true,
   "toc_position": {
    "height": "calc(100% - 180px)",
    "left": "10px",
    "top": "150px",
    "width": "165px"
   },
   "toc_section_display": true,
   "toc_window_display": true
  }
 },
 "nbformat": 4,
 "nbformat_minor": 4
}
