{
 "cells": [
  {
   "cell_type": "markdown",
   "metadata": {
    "toc": true
   },
   "source": [
    "<h1>Table of Contents<span class=\"tocSkip\"></span></h1>\n",
    "<div class=\"toc\"><ul class=\"toc-item\"><li><span><a href=\"#Init\" data-toc-modified-id=\"Init-1\"><span class=\"toc-item-num\">1&nbsp;&nbsp;</span>Init</a></span><ul class=\"toc-item\"><li><span><a href=\"#Helper-functions\" data-toc-modified-id=\"Helper-functions-1.1\"><span class=\"toc-item-num\">1.1&nbsp;&nbsp;</span>Helper functions</a></span></li></ul></li><li><span><a href=\"#Descriptive-stats\" data-toc-modified-id=\"Descriptive-stats-2\"><span class=\"toc-item-num\">2&nbsp;&nbsp;</span>Descriptive stats</a></span><ul class=\"toc-item\"><li><span><a href=\"#Summary-table\" data-toc-modified-id=\"Summary-table-2.1\"><span class=\"toc-item-num\">2.1&nbsp;&nbsp;</span>Summary table</a></span></li><li><span><a href=\"#How-many-imputed-items?\" data-toc-modified-id=\"How-many-imputed-items?-2.2\"><span class=\"toc-item-num\">2.2&nbsp;&nbsp;</span>How many imputed items?</a></span></li><li><span><a href=\"#Time-series-plots\" data-toc-modified-id=\"Time-series-plots-2.3\"><span class=\"toc-item-num\">2.3&nbsp;&nbsp;</span>Time series plots</a></span></li></ul></li><li><span><a href=\"#TWFE-estimator\" data-toc-modified-id=\"TWFE-estimator-3\"><span class=\"toc-item-num\">3&nbsp;&nbsp;</span>TWFE estimator</a></span></li><li><span><a href=\"#Sun-and-Abraham\" data-toc-modified-id=\"Sun-and-Abraham-4\"><span class=\"toc-item-num\">4&nbsp;&nbsp;</span>Sun and Abraham</a></span></li><li><span><a href=\"#Chaisemartin-and-D'Haultfoeuille\" data-toc-modified-id=\"Chaisemartin-and-D'Haultfoeuille-5\"><span class=\"toc-item-num\">5&nbsp;&nbsp;</span>Chaisemartin and D'Haultfoeuille</a></span></li></ul></div>"
   ]
  },
  {
   "cell_type": "markdown",
   "metadata": {},
   "source": [
    "# 2008 ESA Analysis\n",
    "By Zachary A. Goodman\n",
    "\n",
    "Updated: 2021-05\n",
    "\n",
    "This script performs the analysis in Goodman (2021)."
   ]
  },
  {
   "cell_type": "markdown",
   "metadata": {},
   "source": [
    "## Init"
   ]
  },
  {
   "cell_type": "code",
   "execution_count": null,
   "metadata": {},
   "outputs": [],
   "source": [
    "clear all\n",
    "\n",
    "* set working directory\n",
    "qui cd \"../\"\n",
    "\n",
    "* set global directories\n",
    "global raw_data ./data/raw_data\n",
    "global temp_data ./data/temp_data\n",
    "global gen_data ./data/gen_data\n",
    "global figures ./tex/figures \n",
    "global tables ./tex/tables\n",
    "\n",
    "* check dependencies\n",
    "which eventstudyinteract\n",
    "which reghdfe\n",
    "\n",
    "* plot style\n",
    "set scheme s1color"
   ]
  },
  {
   "cell_type": "markdown",
   "metadata": {},
   "source": [
    "### Helper functions"
   ]
  },
  {
   "cell_type": "code",
   "execution_count": null,
   "metadata": {},
   "outputs": [],
   "source": [
    "capture program drop get_data\n",
    "program get_data\n",
    "    use $gen_data/hh_year_week_panel, clear\n",
    "    end"
   ]
  },
  {
   "cell_type": "code",
   "execution_count": null,
   "metadata": {},
   "outputs": [],
   "source": [
    "capture program drop merge_dems\n",
    "program merge_dems\n",
    "    merge m:1 household_code using $gen_data/panelist_info.dta, keep(3) nogen\n",
    "    sort household_code\n",
    "    qui by household_code: ereplace wic_indicator_current = min(wic_indicator_current)\n",
    "    qui by household_code: ereplace wic_indicator_ever_not_current = min(wic_indicator_ever_not_current)\n",
    "    qui replace wic_indicator_current = 0 if mi(wic_indicator_current)\n",
    "    qui replace wic_indicator_ever_not_current = 0 if mi(wic_indicator_ever_not_current)\n",
    "    end"
   ]
  },
  {
   "cell_type": "code",
   "execution_count": null,
   "metadata": {},
   "outputs": [],
   "source": [
    "* Sample-shrinking function for debugging\n",
    "\n",
    "capture program drop keep_rand\n",
    "program keep_rand\n",
    "    args sample_size  // percent\n",
    "\n",
    "    capture drop rnum\n",
    "    bys household_code: gen rnum = runiform() if _n == 1\n",
    "    by household_code: ereplace rnum = min(rnum)\n",
    "    keep if rnum < `sample_size'\n",
    "    end"
   ]
  },
  {
   "cell_type": "code",
   "execution_count": null,
   "metadata": {},
   "outputs": [],
   "source": [
    "* Two-way Fixed Effect estimator\n",
    "\n",
    "capture program drop twfe\n",
    "program define twfe\n",
    "    args outcome leads fname\n",
    "    /*\n",
    "    Two-way fixed effect estimator. \n",
    "    Must assume homogenous treatment effects and construct a 'never treated' group\n",
    "    using the last treated cohort.\n",
    "    \n",
    "    Args\n",
    "    outcome: y var\n",
    "    leads: number of leads to include (lags limited by control group)\n",
    "    fname: file name\n",
    "    */\n",
    "\n",
    "    capture restore\n",
    "    preserve\n",
    "\n",
    "    // keep_rand 0.3 // for shrinking sample for debugging\n",
    "    \n",
    "    di `leads'\n",
    "\n",
    "    * drop obs after week of last treatment (2524)\n",
    "    drop if week >= 2524\n",
    "    //tab week_diff if week_treat == 2524  // verify last group has no treated obs\n",
    "\n",
    "    * drop obs before `leads'\n",
    "    drop if week_diff < -1 * `leads'\n",
    "\n",
    "    * outcome in logs\n",
    "    capture drop logy\n",
    "    gen logy = asinh(`outcome')\n",
    "\n",
    "    * factor-ize week_diff\n",
    "    * leads (n = negative)\n",
    "    capture drop g_*\n",
    "    forvalues k = `leads'(-1)1 {\n",
    "        qui gen g_n`k' = week_diff == -`k'\n",
    "    }\n",
    "    * lags\n",
    "    forvalues k = 0/12 {\n",
    "        qui gen g_`k' = week_diff == `k'\n",
    "    }\n",
    "\n",
    "    * drop reference category\n",
    "    drop g_n2\n",
    "\n",
    "    di \"Running reghdfe...\"\n",
    "    \n",
    "    reghdfe logy g_* [fw=projection_factor], ///\n",
    "        absorb(household_code week) vce(cluster household_code) nocons\n",
    "\n",
    "    //coefplot , vertical\n",
    "\n",
    "    * get matrix of coef and se estimates\n",
    "    matrix C = e(b)  // point estimates in relative time\n",
    "    mata st_matrix(\"A\", sqrt(st_matrix(\"e(V)\")))  // variance estimates\n",
    "    matrix A = vecdiag(A)\n",
    "    matrix C = C \\ A  // add row with standard errors\n",
    "    matrix rownames C = coeff se\n",
    "    matrix CT = C'  // transpose\n",
    "\n",
    "    * export matrix\n",
    "    mat2txt, matrix(CT) saving($temp_data/twfe/`fname'.txt) replace\n",
    "\n",
    "    end"
   ]
  },
  {
   "cell_type": "code",
   "execution_count": null,
   "metadata": {},
   "outputs": [],
   "source": [
    "* Sun and Abraham estimator\n",
    "\n",
    "capture program drop sun_abraham\n",
    "program define sun_abraham\n",
    "    args outcome weeks fname\n",
    "    /*\n",
    "    outcome: y var\n",
    "    weeks: number of leads and lags\n",
    "    fname: file name\n",
    "    */\n",
    "\n",
    "    capture restore\n",
    "    preserve\n",
    "\n",
    "    di `weeks'\n",
    "\n",
    "    // keep_rand  0.05  // shrink sample for debugging\n",
    "\n",
    "    * gen logged outcome var\n",
    "    capture drop logy\n",
    "    gen logy = asinh(`outcome')\n",
    "\n",
    "    * control cohort\n",
    "    capture drop ctrl_cohort\n",
    "    gen ctrl_cohort = week_treat == 2524\n",
    "\n",
    "    * drop obs after week of last treatment (2524)\n",
    "    drop if week >= 2524\n",
    "    //tab week_diff if week_treat == 2524  // verify last group has no treated obs\n",
    "\n",
    "    * generate leads and lags\n",
    "    capture drop g_* \n",
    "\n",
    "    * leads (n = negative)\n",
    "    forvalues k = `weeks'(-1)1 {\n",
    "        qui gen g_n`k' = week_diff == -`k'\n",
    "    }\n",
    "\n",
    "    * lags\n",
    "    forvalues k = 0/12 {\n",
    "        qui gen g_`k' = week_diff == `k'\n",
    "    }\n",
    "\n",
    "    * drop reference weeks\n",
    "    drop g_n`weeks' g_n2\n",
    "\n",
    "    /*\n",
    "    eventstudyinteract {y} {rel_time_list} [if] [in] [weight] ,\n",
    "                   absorb(absvars) cohort(variable) control_cohort(variable)\n",
    "                   [options covariates(varlist)]\n",
    "    */\n",
    "    di \"Running eventstudyinteract...\"\n",
    "\n",
    "    eventstudyinteract logy g_* [fw=projection_factor], ///\n",
    "        absorb(household_code week) cohort(week_treat) control_cohort(ctrl_cohort) ///\n",
    "        vce(cluster household_code)\n",
    "\n",
    "\n",
    "    * export coefficients\n",
    "\n",
    "    matrix C = e(b_iw)  // point estimates in relative time\n",
    "    mata st_matrix(\"A\", sqrt(st_matrix(\"e(V_iw)\")))  // variance estimates\n",
    "    matrix C = C \\ A  // add row with standard errors\n",
    "    matrix rownames C = coeff se\n",
    "    matrix CT = C'  // transpose\n",
    "    //matrix list C\n",
    "    //coefplot matrix(C[1]), se(C[2]) vertical\n",
    "    mat2txt, matrix(CT) saving($temp_data/sun_abraham/`fname'.txt) replace\n",
    "    \n",
    "    end"
   ]
  },
  {
   "cell_type": "markdown",
   "metadata": {},
   "source": [
    "## Descriptive stats"
   ]
  },
  {
   "cell_type": "code",
   "execution_count": null,
   "metadata": {
    "scrolled": true
   },
   "outputs": [],
   "source": [
    "get_data\n",
    "merge_dems\n",
    "gunique household_code\n",
    "gunique household_code week"
   ]
  },
  {
   "cell_type": "code",
   "execution_count": null,
   "metadata": {},
   "outputs": [],
   "source": [
    "tab week_diff"
   ]
  },
  {
   "cell_type": "code",
   "execution_count": null,
   "metadata": {},
   "outputs": [],
   "source": [
    "sum"
   ]
  },
  {
   "cell_type": "markdown",
   "metadata": {},
   "source": [
    "### Summary table"
   ]
  },
  {
   "cell_type": "code",
   "execution_count": null,
   "metadata": {},
   "outputs": [],
   "source": [
    "* keep only necessary vars\n",
    "keep household_code week_diff hh_method_paper-projection_factor ///\n",
    "    items_deals-coupons_amount_saved calories-total_spent hh_* wic*\n",
    "\n",
    "* keep only pretreatment obs\n",
    "keep if week_diff < 0  // only pretreatment obs\n",
    "\n",
    "* collapse to household level\n",
    "collapse (mean) hh_method_paper-hh_child, by(household_code)\n",
    "\n",
    "sum"
   ]
  },
  {
   "cell_type": "code",
   "execution_count": null,
   "metadata": {},
   "outputs": [],
   "source": [
    "eststo clear\n",
    "estpost tabstat hh_method_paper-hh_method_dd trips items_* final_price_paid-coupons_amount_saved ///\n",
    "    calories-transfatgrams [fw=projection_factor], listwise ///\n",
    "    statistics(mean sd) columns(statistics)\n",
    "\n",
    "esttab, cells(\"mean(fmt(2)) sd\") nomtitle nonumber"
   ]
  },
  {
   "cell_type": "markdown",
   "metadata": {},
   "source": [
    "### How many imputed items?"
   ]
  },
  {
   "cell_type": "code",
   "execution_count": null,
   "metadata": {},
   "outputs": [],
   "source": [
    "get_data\n",
    "\n",
    "capture drop all*\n",
    "gen all_items = imputed0 + imputed1 + imputed2 + imputed3 + imputed4 + imputed5\n",
    "egen all_items_scanned = sum(all_items)\n",
    "// egen all_items_scanned_2 = sum(items_food)\n",
    "// sum all_items*\n",
    "\n",
    "forvalues i = 0/5 {\n",
    "    egen all_imputed_`i' = sum(imputed`i')\n",
    "    di all_imputed_`i' / all_items_scanned\n",
    "}"
   ]
  },
  {
   "cell_type": "markdown",
   "metadata": {},
   "source": [
    "### Time series plots"
   ]
  },
  {
   "cell_type": "code",
   "execution_count": null,
   "metadata": {},
   "outputs": [],
   "source": [
    "get_data\n",
    "merge_dems"
   ]
  },
  {
   "cell_type": "code",
   "execution_count": null,
   "metadata": {},
   "outputs": [],
   "source": [
    "capture program drop plot_ts\n",
    "program plot_ts \n",
    "    args yvars byvar\n",
    "    \n",
    "    capture restore\n",
    "    preserve\n",
    "\n",
    "    capture drop week_diff\n",
    "    gen week_diff = week - week_treat\n",
    "    keep `yvars' `byvar' week_diff projection_factor\n",
    "    collapse (mean) `yvars' [fw=projection_factor], by(week_diff `byvar')\n",
    "\n",
    "    keep if inrange(week_diff, -12, 11)\n",
    "    sum\n",
    "\n",
    "    foreach y of varlist `yvars' {\n",
    "        twoway (line `y' week_diff if `byvar' == 1) ///\n",
    "            (line `y' week_diff if `byvar' == 0)\n",
    "    }\n",
    "\n",
    "    restore\n",
    "    end"
   ]
  },
  {
   "cell_type": "code",
   "execution_count": null,
   "metadata": {},
   "outputs": [],
   "source": [
    "local yvars = \"total_spent\"\n",
    "local byvar = \"hh_savings_two_months\"\n",
    "plot_ts \"`yvars'\" \"`byvar'\""
   ]
  },
  {
   "cell_type": "markdown",
   "metadata": {},
   "source": [
    "## TWFE estimator"
   ]
  },
  {
   "cell_type": "code",
   "execution_count": null,
   "metadata": {},
   "outputs": [],
   "source": [
    "get_data"
   ]
  },
  {
   "cell_type": "code",
   "execution_count": null,
   "metadata": {},
   "outputs": [],
   "source": [
    "* loop through outcomes and get coeffs\n",
    "\n",
    "foreach v of varlist items_deals-coupons_amount_saved calories-total_spent {\n",
    "    di \"`v'\"\n",
    "    twfe `v' 26 \"all/`v'\"\n",
    "}"
   ]
  },
  {
   "cell_type": "markdown",
   "metadata": {},
   "source": [
    "## Sun and Abraham"
   ]
  },
  {
   "cell_type": "code",
   "execution_count": null,
   "metadata": {},
   "outputs": [],
   "source": [
    "get_data"
   ]
  },
  {
   "cell_type": "code",
   "execution_count": null,
   "metadata": {},
   "outputs": [],
   "source": [
    "* loop through outcomes and get coeffs\n",
    "\n",
    "foreach v of varlist items_deals-coupons_amount_saved calories-total_spent {\n",
    "    di \"`v'\"\n",
    "    sun_abraham `v' 26 \"all/`v'\"\n",
    "}"
   ]
  },
  {
   "cell_type": "markdown",
   "metadata": {},
   "source": [
    "## Chaisemartin and D'Haultfoeuille"
   ]
  },
  {
   "cell_type": "code",
   "execution_count": null,
   "metadata": {},
   "outputs": [],
   "source": [
    "* Try Chaisemartin & D'Haultfoeuille (2020)\n",
    "* Very slow\n",
    "\n",
    "capture restore\n",
    "preserve\n",
    "\n",
    "capture drop logx treat\n",
    "gen logx = asinh(sugargrams)\n",
    "gen treat = week_diff >= 0\n",
    "\n",
    "* shrink sample to make sure program works\n",
    "keep if week_diff >= -52\n",
    "keep if week_diff <= 52\n",
    "// gen randn = runiform()\n",
    "// bys household_code: ereplace randn = max(randn)\n",
    "// sort randn\n",
    "// keep in 1/30000\n",
    "\n",
    "* syntax: outcome group time_period_var treatment_var, options\n",
    "did_multiplegt logx household_code week treat, switchers(in) breps(100) weight(projection_factor)\n",
    "\n",
    "restore"
   ]
  },
  {
   "cell_type": "code",
   "execution_count": null,
   "metadata": {},
   "outputs": [],
   "source": []
  },
  {
   "cell_type": "code",
   "execution_count": null,
   "metadata": {},
   "outputs": [],
   "source": []
  },
  {
   "cell_type": "code",
   "execution_count": null,
   "metadata": {},
   "outputs": [],
   "source": []
  },
  {
   "cell_type": "code",
   "execution_count": null,
   "metadata": {},
   "outputs": [],
   "source": []
  },
  {
   "cell_type": "code",
   "execution_count": null,
   "metadata": {},
   "outputs": [],
   "source": []
  },
  {
   "cell_type": "code",
   "execution_count": null,
   "metadata": {},
   "outputs": [],
   "source": []
  },
  {
   "cell_type": "code",
   "execution_count": null,
   "metadata": {},
   "outputs": [],
   "source": []
  },
  {
   "cell_type": "code",
   "execution_count": null,
   "metadata": {},
   "outputs": [],
   "source": []
  }
 ],
 "metadata": {
  "kernelspec": {
   "display_name": "Stata",
   "language": "stata",
   "name": "stata"
  },
  "language_info": {
   "codemirror_mode": "stata",
   "file_extension": ".do",
   "mimetype": "text/x-stata",
   "name": "stata",
   "version": "15.1"
  },
  "toc": {
   "base_numbering": 1,
   "nav_menu": {},
   "number_sections": true,
   "sideBar": true,
   "skip_h1_title": true,
   "title_cell": "Table of Contents",
   "title_sidebar": "Contents",
   "toc_cell": true,
   "toc_position": {
    "height": "calc(100% - 180px)",
    "left": "10px",
    "top": "150px",
    "width": "165px"
   },
   "toc_section_display": true,
   "toc_window_display": true
  }
 },
 "nbformat": 4,
 "nbformat_minor": 4
}
