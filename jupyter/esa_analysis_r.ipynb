{
 "cells": [
  {
   "cell_type": "markdown",
   "id": "7c383de1",
   "metadata": {
    "toc": true
   },
   "source": [
    "<h1>Table of Contents<span class=\"tocSkip\"></span></h1>\n",
    "<div class=\"toc\"><ul class=\"toc-item\"><li><span><a href=\"#Stacked-DiD\" data-toc-modified-id=\"Stacked-DiD-1\"><span class=\"toc-item-num\">1&nbsp;&nbsp;</span>Stacked DiD</a></span></li></ul></div>"
   ]
  },
  {
   "cell_type": "code",
   "execution_count": null,
   "id": "49e862cd",
   "metadata": {},
   "outputs": [],
   "source": [
    "library(did)\n",
    "library(dplyr)"
   ]
  },
  {
   "cell_type": "markdown",
   "id": "fbc750e7",
   "metadata": {},
   "source": [
    "## Stacked DiD\n",
    "\n",
    "A la Callaway and Sant'Anna"
   ]
  },
  {
   "cell_type": "code",
   "execution_count": null,
   "id": "cfd361ee",
   "metadata": {},
   "outputs": [],
   "source": [
    "# import data\n",
    "df <- read.csv('../data/gen_data/hh_year_week_panel.csv')\n",
    "\n",
    "# get weeks\n",
    "df$week = df$week_treat + df$week_diff"
   ]
  },
  {
   "cell_type": "code",
   "execution_count": null,
   "id": "b93b9226",
   "metadata": {},
   "outputs": [],
   "source": [
    "df %>% summary()"
   ]
  },
  {
   "cell_type": "code",
   "execution_count": null,
   "id": "f4049ca6",
   "metadata": {},
   "outputs": [],
   "source": [
    "# Estimating the effect on log(sugar)\n",
    "\n",
    "df$log_outcome = asinh(df$sugargrams)\n",
    "dfsub = subset(df, week_diff >= -12 & week_diff <= 12)\n",
    "dfsub %>% head()\n",
    "\n",
    "atts <- att_gt(yname = \"log_outcome\", # LHS variable\n",
    "               tname = \"week\", # time variable\n",
    "               idname = \"household_code\", # id variable\n",
    "               gname = \"week_treat\", # first treatment period variable\n",
    "               data = dfsub, # data\n",
    "               xformla = NULL, # no covariates\n",
    "               #xformla = ~ x_1, # with covariates\n",
    "               est_method = \"reg\", # \"dr\" is doubly robust. \"ipw\" is inverse probability weighting. \"reg\" is regression\n",
    "               control_group = \"notyettreated\", # set the comparison group which is either \"nevertreated\" or \"notyettreated\" \n",
    "               bstrap = FALSE, # if TRUE compute bootstrapped SE\n",
    "               #biters = 1000, # number of bootstrap iterations\n",
    "               print_details = FALSE, # if TRUE, print detailed results\n",
    "               clustervars = \"household_code\", # cluster level\n",
    "               panel = FALSE) # whether the data is panel or repeated cross-sectional"
   ]
  },
  {
   "cell_type": "code",
   "execution_count": null,
   "id": "02cf0da0",
   "metadata": {},
   "outputs": [],
   "source": []
  },
  {
   "cell_type": "code",
   "execution_count": null,
   "id": "561fbf4e",
   "metadata": {},
   "outputs": [],
   "source": [
    "# Aggregate ATT\n",
    "agg_effects <- aggte(atts, type = \"group\")\n",
    "summary(agg_effects)"
   ]
  },
  {
   "cell_type": "code",
   "execution_count": null,
   "id": "a800f266",
   "metadata": {},
   "outputs": [],
   "source": [
    "# Aggregate ATT\n",
    "agg_effects <- aggte(atts, type = \"group\")\n",
    "summary(agg_effects)\n",
    "\n",
    "# Group-time ATTs\n",
    "summary(atts)\n",
    "\n",
    "# Plot group-time ATTs\n",
    "ggdid(atts)\n",
    "\n",
    "# Event-study\n",
    "agg_effects_es <- aggte(atts, type = \"dynamic\")\n",
    "summary(agg_effects_es)\n",
    "\n",
    "# Plot event-study coefficients\n",
    "ggdid(agg_effects_es)"
   ]
  },
  {
   "cell_type": "code",
   "execution_count": null,
   "id": "b2a2dafd",
   "metadata": {},
   "outputs": [],
   "source": []
  },
  {
   "cell_type": "code",
   "execution_count": null,
   "id": "f6287582",
   "metadata": {},
   "outputs": [],
   "source": []
  },
  {
   "cell_type": "code",
   "execution_count": null,
   "id": "c27b9230",
   "metadata": {},
   "outputs": [],
   "source": []
  },
  {
   "cell_type": "code",
   "execution_count": null,
   "id": "8ddab12d",
   "metadata": {},
   "outputs": [],
   "source": []
  },
  {
   "cell_type": "code",
   "execution_count": null,
   "id": "4e5be8ef",
   "metadata": {},
   "outputs": [],
   "source": []
  },
  {
   "cell_type": "code",
   "execution_count": null,
   "id": "11415a49",
   "metadata": {},
   "outputs": [],
   "source": []
  },
  {
   "cell_type": "code",
   "execution_count": null,
   "id": "a356fe58",
   "metadata": {},
   "outputs": [],
   "source": []
  },
  {
   "cell_type": "code",
   "execution_count": null,
   "id": "d034578f",
   "metadata": {},
   "outputs": [],
   "source": []
  }
 ],
 "metadata": {
  "kernelspec": {
   "display_name": "R",
   "language": "R",
   "name": "ir"
  },
  "language_info": {
   "codemirror_mode": "r",
   "file_extension": ".r",
   "mimetype": "text/x-r-source",
   "name": "R",
   "pygments_lexer": "r",
   "version": "4.0.3"
  },
  "toc": {
   "base_numbering": 1,
   "nav_menu": {},
   "number_sections": true,
   "sideBar": true,
   "skip_h1_title": true,
   "title_cell": "Table of Contents",
   "title_sidebar": "Contents",
   "toc_cell": true,
   "toc_position": {},
   "toc_section_display": true,
   "toc_window_display": true
  }
 },
 "nbformat": 4,
 "nbformat_minor": 5
}
